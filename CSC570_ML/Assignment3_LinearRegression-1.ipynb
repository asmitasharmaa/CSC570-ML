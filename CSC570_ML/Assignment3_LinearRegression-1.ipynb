{
  "cells": [
    {
      "cell_type": "markdown",
      "metadata": {
        "id": "eYHwiGdzSCQh"
      },
      "source": [
        "#Assignment 3: Due date Wednesday, 12 Oct, Full Credit: 20 points#\n",
        "##Individually Graded. Collaboration is encouraged but do not copy the code ##"
      ]
    },
    {
      "cell_type": "markdown",
      "metadata": {
        "id": "ichHhHgXMUIr"
      },
      "source": [
        "# The purpose of this exercise is to implement the linear regression technique to two toy datasets and infer the performance of both the models.#"
      ]
    },
    {
      "cell_type": "markdown",
      "metadata": {
        "id": "Fzu-q1VmVXi7"
      },
      "source": [
        "**Task: Fit the following toy data to a linear regression model with $\\mathrm{R}^1  + $ a bias parameter. You MUST write your own LinearRegression method. To solve the optimization, you could use linalg.lstsq(x, y) (refer https://docs.scipy.org/doc/scipy/reference/generated/scipy.linalg.lstsq.html for more details)**"
      ]
    },
    {
      "cell_type": "code",
      "execution_count": 229,
      "metadata": {
        "colab": {
          "base_uri": "https://localhost:8080/"
        },
        "id": "UYYnr1F7xZXs",
        "outputId": "f8bb9788-f803-4514-85d4-b1bcf370f9fd"
      },
      "outputs": [
        {
          "name": "stdout",
          "output_type": "stream",
          "text": [
            "(100,) (100,)\n"
          ]
        }
      ],
      "source": [
        "from sklearn.model_selection import train_test_split\n",
        "import numpy as np\n",
        "from matplotlib import pyplot as plt \n",
        "\n",
        "N = 100\n",
        "X = np.random.rand(N) * 10              #generate N random numbers from 0-20\n",
        "y =  4 + 4*X + 1*np.random.randn(N)     #generate y using a linear model and add some noise\n",
        "print(X.shape, y.shape) \n"
      ]
    },
    {
      "cell_type": "code",
      "execution_count": 230,
      "metadata": {},
      "outputs": [
        {
          "data": {
            "text/plain": [
              "array([6.74364721, 0.02798641, 1.88294735, 8.70559892, 1.19566351,\n",
              "       5.39655627, 5.92209158, 1.80264376, 5.67371191, 6.86405606,\n",
              "       2.58782222, 1.70897792, 9.46721779, 5.79251583, 8.04203252,\n",
              "       6.00214875, 3.48651746, 4.78742919, 7.52706786, 3.36417833,\n",
              "       9.39919199, 8.20048105, 0.74401898, 5.92146333, 5.24966971,\n",
              "       6.92202471, 3.39325324, 6.69328716, 1.9869859 , 5.63499753,\n",
              "       8.79247753, 9.66261077, 1.13041816, 1.63628967, 2.73211838,\n",
              "       8.70109872, 1.71353561, 7.52451682, 3.79457901, 0.82866231,\n",
              "       5.28511391, 4.45209787, 3.74626713, 4.79716384, 6.11153106,\n",
              "       2.23620895, 2.06660022, 1.11191863, 0.4942468 , 0.29784043,\n",
              "       5.1324438 , 9.73265032, 3.61755057, 1.51648539, 1.62796482,\n",
              "       5.53935916, 3.90961548, 2.44194125, 7.55902605, 3.54958428,\n",
              "       7.67404747, 1.97244247, 9.37986769, 5.9271424 , 7.45939379,\n",
              "       2.88051583, 2.90998216, 7.7417235 , 0.52221342, 6.99750375,\n",
              "       7.75165276, 2.71819377, 1.12322241, 1.30029714, 8.87836686,\n",
              "       2.03918504, 0.33073084, 4.79249983, 5.7115158 , 0.82822201,\n",
              "       7.53939218, 9.40816267, 5.49678759, 5.57879832, 4.4241905 ,\n",
              "       9.82898256, 3.8566358 , 8.27255487, 1.54781707, 3.34936407,\n",
              "       5.35190933, 6.1297634 , 5.47640267, 5.18456231, 1.58699915,\n",
              "       6.15853172, 7.24735724, 2.07976257, 3.48127183, 0.36944033])"
            ]
          },
          "execution_count": 230,
          "metadata": {},
          "output_type": "execute_result"
        }
      ],
      "source": [
        "X"
      ]
    },
    {
      "cell_type": "code",
      "execution_count": 231,
      "metadata": {},
      "outputs": [
        {
          "data": {
            "text/plain": [
              "array([31.21906247,  3.64952061, 11.6195428 , 38.99270289, 10.73913055,\n",
              "       27.08937285, 27.79481337, 10.42725872, 25.43624803, 32.3799693 ,\n",
              "       14.21225853, 10.59076345, 41.24514398, 26.10458027, 39.06613132,\n",
              "       27.25203593, 16.69531848, 24.0666432 , 34.53771948, 16.40578851,\n",
              "       42.3279149 , 35.71892809,  7.85770822, 28.20077944, 26.34351477,\n",
              "       32.51523235, 16.70149018, 30.68842499, 11.68870513, 26.89697806,\n",
              "       36.16716944, 42.65237431,  8.61508201,  8.96287064, 15.37349033,\n",
              "       41.45823781, 10.68761433, 34.46351253, 18.34789527,  6.83305681,\n",
              "       25.15635362, 24.15333849, 19.41805205, 23.29607332, 28.83171953,\n",
              "       11.91421617, 10.64119346,  8.37059073,  5.82991819,  4.79454648,\n",
              "       24.55519765, 44.57025275, 16.81308507,  9.96460607,  9.7430351 ,\n",
              "       25.78163423, 19.74135754, 11.68809494, 34.37204422, 18.32723   ,\n",
              "       34.04227496, 12.22704047, 41.91249285, 27.86025444, 34.54823568,\n",
              "       15.77419235, 16.45374716, 34.56586718,  6.35069072, 30.93203968,\n",
              "       35.92747136, 13.93800218,  8.01338252,  9.20615462, 38.96440602,\n",
              "       11.50120738,  5.69148506, 23.27654643, 26.40947878,  9.34308001,\n",
              "       34.22234601, 41.39228485, 26.03931918, 24.8868652 , 21.31134287,\n",
              "       44.58881308, 20.56554261, 35.45242704, 10.50318786, 15.83084076,\n",
              "       26.32355166, 29.59820198, 27.7209546 , 24.80619334, 10.44445721,\n",
              "       27.33245155, 33.34956536, 12.18833455, 14.77475321,  4.54423446])"
            ]
          },
          "execution_count": 231,
          "metadata": {},
          "output_type": "execute_result"
        }
      ],
      "source": [
        "y"
      ]
    },
    {
      "cell_type": "code",
      "execution_count": 232,
      "metadata": {
        "id": "hAaBBgBUEZqf"
      },
      "outputs": [],
      "source": [
        "# design matrix\n",
        "def design_matrix(X):\n",
        "    i = np.ones(X.shape)\n",
        "    X = np.column_stack([i, X])\n",
        "    return X\n"
      ]
    },
    {
      "cell_type": "code",
      "execution_count": 233,
      "metadata": {},
      "outputs": [],
      "source": [
        "def fitting(X):\n",
        "    # fitting the model:\n",
        "    dMatrix = design_matrix(X)\n",
        "    w = np.linalg.lstsq(dMatrix, y)[0]\n",
        "    return w"
      ]
    },
    {
      "cell_type": "code",
      "execution_count": 234,
      "metadata": {},
      "outputs": [],
      "source": [
        "# Predicting and return y hat:\n",
        "def prediction(X, w):\n",
        "    dMatrix = design_matrix(X)\n",
        "    return dMatrix @ w\n",
        "\n"
      ]
    },
    {
      "cell_type": "code",
      "execution_count": 235,
      "metadata": {},
      "outputs": [
        {
          "name": "stderr",
          "output_type": "stream",
          "text": [
            "/var/folders/81/tymw48y94j7602074ndb54_h0000gn/T/ipykernel_26930/1661419950.py:4: FutureWarning: `rcond` parameter will change to the default of machine precision times ``max(M, N)`` where M and N are the input matrix dimensions.\n",
            "To use the future default and silence this warning we advise to pass `rcond=None`, to keep using the old, explicitly pass `rcond=-1`.\n",
            "  w = np.linalg.lstsq(dMatrix, y)[0]\n"
          ]
        },
        {
          "data": {
            "text/plain": [
              "array([3.69841883, 4.05656768])"
            ]
          },
          "execution_count": 235,
          "metadata": {},
          "output_type": "execute_result"
        }
      ],
      "source": [
        "# Run the model to predict the y Hat values\n",
        "w = fitting(X)\n",
        "yHat = prediction(X, w)\n",
        "w\n"
      ]
    },
    {
      "cell_type": "markdown",
      "metadata": {
        "id": "H1cP50AlzUm8"
      },
      "source": [
        "**Task: Implement the cost function: mean(w[0] + w[1]*x - y)**2)** where w[0] and w[1] are the weights returned by your trained model. **"
      ]
    },
    {
      "cell_type": "code",
      "execution_count": 236,
      "metadata": {
        "id": "v72Ez6px0A4H"
      },
      "outputs": [],
      "source": [
        "# Cost function:\n",
        "def cost_func(y, yHat):\n",
        "    sse = np.sum((y - yHat) ** 2)\n",
        "    return sse\n",
        "  "
      ]
    },
    {
      "cell_type": "code",
      "execution_count": 237,
      "metadata": {
        "id": "3q71wiYjWnad"
      },
      "outputs": [],
      "source": [
        "loss = cost_func(y, yHat)\n"
      ]
    },
    {
      "cell_type": "code",
      "execution_count": 238,
      "metadata": {},
      "outputs": [
        {
          "data": {
            "text/plain": [
              "array([3.69841883, 4.05656768])"
            ]
          },
          "execution_count": 238,
          "metadata": {},
          "output_type": "execute_result"
        }
      ],
      "source": [
        "w"
      ]
    },
    {
      "cell_type": "markdown",
      "metadata": {
        "id": "Kug1oFOVWn-k"
      },
      "source": [
        "**Task: Display the graph of the loss function using the weights obtained from the model.**\n",
        "\n",
        "**Answer**"
      ]
    },
    {
      "cell_type": "code",
      "execution_count": 239,
      "metadata": {
        "id": "fnEtWNXG5blZ"
      },
      "outputs": [
        {
          "data": {
            "text/plain": [
              "array([-1.30158117, -1.10158117, -0.90158117, -0.70158117, -0.50158117,\n",
              "       -0.30158117, -0.10158117,  0.09841883,  0.29841883,  0.49841883,\n",
              "        0.69841883,  0.89841883,  1.09841883,  1.29841883,  1.49841883,\n",
              "        1.69841883,  1.89841883,  2.09841883,  2.29841883,  2.49841883,\n",
              "        2.69841883,  2.89841883,  3.09841883,  3.29841883,  3.49841883,\n",
              "        3.69841883,  3.89841883,  4.09841883,  4.29841883,  4.49841883,\n",
              "        4.69841883,  4.89841883,  5.09841883,  5.29841883,  5.49841883,\n",
              "        5.69841883,  5.89841883,  6.09841883,  6.29841883,  6.49841883,\n",
              "        6.69841883,  6.89841883,  7.09841883,  7.29841883,  7.49841883,\n",
              "        7.69841883,  7.89841883,  8.09841883,  8.29841883,  8.49841883])"
            ]
          },
          "execution_count": 239,
          "metadata": {},
          "output_type": "execute_result"
        }
      ],
      "source": [
        "wDash0 = np.arange(w[0] - 5, w[0] + 5, 0.2)\n",
        "wDash0"
      ]
    },
    {
      "cell_type": "code",
      "execution_count": 240,
      "metadata": {},
      "outputs": [
        {
          "data": {
            "text/plain": [
              "array([-0.94343232, -0.74343232, -0.54343232, -0.34343232, -0.14343232,\n",
              "        0.05656768,  0.25656768,  0.45656768,  0.65656768,  0.85656768,\n",
              "        1.05656768,  1.25656768,  1.45656768,  1.65656768,  1.85656768,\n",
              "        2.05656768,  2.25656768,  2.45656768,  2.65656768,  2.85656768,\n",
              "        3.05656768,  3.25656768,  3.45656768,  3.65656768,  3.85656768,\n",
              "        4.05656768,  4.25656768,  4.45656768,  4.65656768,  4.85656768,\n",
              "        5.05656768,  5.25656768,  5.45656768,  5.65656768,  5.85656768,\n",
              "        6.05656768,  6.25656768,  6.45656768,  6.65656768,  6.85656768,\n",
              "        7.05656768,  7.25656768,  7.45656768,  7.65656768,  7.85656768,\n",
              "        8.05656768,  8.25656768,  8.45656768,  8.65656768,  8.85656768])"
            ]
          },
          "execution_count": 240,
          "metadata": {},
          "output_type": "execute_result"
        }
      ],
      "source": [
        "wDash1 = np.arange(w[1] - 5, w[1] + 5, 0.2)\n",
        "wDash1"
      ]
    },
    {
      "cell_type": "code",
      "execution_count": 241,
      "metadata": {},
      "outputs": [
        {
          "data": {
            "text/plain": [
              "[[-1.301581173242118, -0.9434323179905597],\n",
              " [-1.1015811732421181, -0.7434323179905598],\n",
              " [-0.9015811732421182, -0.5434323179905598],\n",
              " [-0.7015811732421182, -0.34343231799055984],\n",
              " [-0.5015811732421183, -0.1434323179905599],\n",
              " [-0.3015811732421183, 0.05656768200944007],\n",
              " [-0.10158117324211835, 0.25656768200944],\n",
              " [0.0984188267578816, 0.45656768200944],\n",
              " [0.29841882675788156, 0.6565676820094399],\n",
              " [0.4984188267578815, 0.8565676820094399],\n",
              " [0.6984188267578815, 1.0565676820094398],\n",
              " [0.8984188267578812, 1.2565676820094396],\n",
              " [1.0984188267578814, 1.4565676820094398],\n",
              " [1.2984188267578816, 1.65656768200944],\n",
              " [1.4984188267578813, 1.8565676820094397],\n",
              " [1.698418826757881, 2.0565676820094394],\n",
              " [1.8984188267578812, 2.2565676820094396],\n",
              " [2.0984188267578814, 2.4565676820094398],\n",
              " [2.298418826757881, 2.6565676820094395],\n",
              " [2.498418826757881, 2.8565676820094392],\n",
              " [2.698418826757881, 3.0565676820094394],\n",
              " [2.898418826757881, 3.2565676820094396],\n",
              " [3.0984188267578805, 3.456567682009439],\n",
              " [3.2984188267578807, 3.656567682009439],\n",
              " [3.498418826757881, 3.8565676820094392],\n",
              " [3.698418826757881, 4.056567682009439],\n",
              " [3.898418826757881, 4.25656768200944],\n",
              " [4.0984188267578805, 4.456567682009439],\n",
              " [4.298418826757881, 4.656567682009439],\n",
              " [4.498418826757881, 4.856567682009439],\n",
              " [4.69841882675788, 5.0565676820094385],\n",
              " [4.89841882675788, 5.256567682009439],\n",
              " [5.0984188267578805, 5.456567682009439],\n",
              " [5.298418826757881, 5.656567682009439],\n",
              " [5.498418826757881, 5.856567682009439],\n",
              " [5.69841882675788, 6.0565676820094385],\n",
              " [5.89841882675788, 6.256567682009439],\n",
              " [6.0984188267578805, 6.456567682009439],\n",
              " [6.29841882675788, 6.656567682009438],\n",
              " [6.49841882675788, 6.856567682009438],\n",
              " [6.69841882675788, 7.0565676820094385],\n",
              " [6.898418826757879, 7.256567682009438],\n",
              " [7.0984188267578805, 7.456567682009439],\n",
              " [7.29841882675788, 7.656567682009438],\n",
              " [7.498418826757879, 7.8565676820094374],\n",
              " [7.69841882675788, 8.056567682009439],\n",
              " [7.898418826757879, 8.256567682009438],\n",
              " [8.09841882675788, 8.456567682009439],\n",
              " [8.29841882675788, 8.656567682009438],\n",
              " [8.498418826757879, 8.856567682009437]]"
            ]
          },
          "execution_count": 241,
          "metadata": {},
          "output_type": "execute_result"
        }
      ],
      "source": [
        "wMatrix = []\n",
        "lst = []\n",
        "wMatrix\n",
        "\n",
        "for i in range(len(wDash1)):\n",
        "    lst.append(wDash0[i])\n",
        "    lst.append(wDash1[i])\n",
        "    wMatrix.append(lst)\n",
        "    lst = []\n",
        "\n",
        "wMatrix\n"
      ]
    },
    {
      "cell_type": "code",
      "execution_count": 242,
      "metadata": {},
      "outputs": [],
      "source": [
        "m = np.array(wMatrix)\n",
        "lossVal = []\n",
        "\n",
        "for i in range(len(m)):\n",
        "    yNew = prediction(X, m[i])\n",
        "    lossVal.append(cost_func(y, yNew))\n"
      ]
    },
    {
      "cell_type": "code",
      "execution_count": 243,
      "metadata": {},
      "outputs": [
        {
          "data": {
            "text/plain": [
              "[<matplotlib.lines.Line2D at 0x12b4fce50>]"
            ]
          },
          "execution_count": 243,
          "metadata": {},
          "output_type": "execute_result"
        },
        {
          "data": {
            "image/png": "[encoded data removed]",
            "text/plain": [
              "<Figure size 432x288 with 1 Axes>"
            ]
          },
          "metadata": {
            "needs_background": "light"
          },
          "output_type": "display_data"
        }
      ],
      "source": [
        "plt.plot(wDash0, lossVal)\n",
        "plt.xlabel('W')\n",
        "plt.ylabel(r'Loss')\n",
        "yHat = prediction(X, w)\n",
        "plt.plot(w[1], cost_func(y, yHat), 'm.')"
      ]
    },
    {
      "cell_type": "code",
      "execution_count": 244,
      "metadata": {},
      "outputs": [
        {
          "data": {
            "text/plain": [
              "[<matplotlib.lines.Line2D at 0x12b55e910>]"
            ]
          },
          "execution_count": 244,
          "metadata": {},
          "output_type": "execute_result"
        },
        {
          "data": {
            "image/png": "[encoded data removed]",
            "text/plain": [
              "<Figure size 432x288 with 1 Axes>"
            ]
          },
          "metadata": {
            "needs_background": "light"
          },
          "output_type": "display_data"
        }
      ],
      "source": [
        "plt.plot(wDash1, lossVal)\n",
        "plt.xlabel('W')\n",
        "plt.ylabel(r'Loss')\n",
        "yHat = prediction(X, w)\n",
        "plt.plot(w[1], cost_func(y, yHat), 'r.')\n"
      ]
    },
    {
      "cell_type": "markdown",
      "metadata": {},
      "source": []
    },
    {
      "cell_type": "markdown",
      "metadata": {
        "id": "X0LbW9VDXDfE"
      },
      "source": [
        "**Task: Plot the predicted line/model**"
      ]
    },
    {
      "cell_type": "code",
      "execution_count": 245,
      "metadata": {},
      "outputs": [
        {
          "data": {
            "text/plain": [
              "Text(0, 0.5, 'Y')"
            ]
          },
          "execution_count": 245,
          "metadata": {},
          "output_type": "execute_result"
        },
        {
          "data": {
            "image/png": "[encoded data removed]",
            "text/plain": [
              "<Figure size 432x288 with 1 Axes>"
            ]
          },
          "metadata": {
            "needs_background": "light"
          },
          "output_type": "display_data"
        }
      ],
      "source": [
        "plt.plot(X, y, 'r.')\n",
        "plt.plot(X, yHat, 'c-')\n",
        "plt.xlabel('X')\n",
        "plt.ylabel(r'Y')"
      ]
    },
    {
      "cell_type": "markdown",
      "metadata": {
        "id": "x9DOhN5WENTs"
      },
      "source": [
        "**Task: Consider another toy dataset below. Use your same coe for linear regression to Fit to this new dataset. State your observations?**\n",
        "\n",
        "**Answer**"
      ]
    },
    {
      "cell_type": "code",
      "execution_count": 246,
      "metadata": {
        "id": "ZYcbvLXjEPN8"
      },
      "outputs": [
        {
          "name": "stderr",
          "output_type": "stream",
          "text": [
            "/var/folders/81/tymw48y94j7602074ndb54_h0000gn/T/ipykernel_26930/1661419950.py:4: FutureWarning: `rcond` parameter will change to the default of machine precision times ``max(M, N)`` where M and N are the input matrix dimensions.\n",
            "To use the future default and silence this warning we advise to pass `rcond=None`, to keep using the old, explicitly pass `rcond=-1`.\n",
            "  w = np.linalg.lstsq(dMatrix, y)[0]\n"
          ]
        },
        {
          "data": {
            "image/png": "[encoded data removed]",
            "text/plain": [
              "<Figure size 432x288 with 1 Axes>"
            ]
          },
          "metadata": {
            "needs_background": "light"
          },
          "output_type": "display_data"
        }
      ],
      "source": [
        "N = 100\n",
        "x = np.linspace(0,10, N)\n",
        "yt = np.sin(x) + np.cos(x**.5)                        \n",
        "y = yt + .5*np.random.randn(N)                      #generate y using a non linear model and add noise\n",
        "w = fitting(x)\n",
        "yh = prediction(x, w)\n",
        "plt.plot(x, y, '.')\n",
        "plt.plot(x, yt, 'b-', label='correct model')\n",
        "plt.plot(x, yh, 'g-', alpha=.5, label='linear fit')\n",
        "plt.xlabel('x')\n",
        "plt.ylabel(r'y')\n",
        "plt.legend()\n",
        "plt.show()\n"
      ]
    },
    {
      "cell_type": "code",
      "execution_count": null,
      "metadata": {},
      "outputs": [],
      "source": []
    }
  ],
  "metadata": {
    "colab": {
      "collapsed_sections": [],
      "provenance": []
    },
    "kernelspec": {
      "display_name": "Python 3.8.5 64-bit",
      "language": "python",
      "name": "python3"
    },
    "language_info": {
      "codemirror_mode": {
        "name": "ipython",
        "version": 3
      },
      "file_extension": ".py",
      "mimetype": "text/x-python",
      "name": "python",
      "nbconvert_exporter": "python",
      "pygments_lexer": "ipython3",
      "version": "3.8.13"
    },
    "vscode": {
      "interpreter": {
        "hash": "1ee38ef4a5a9feb55287fd749643f13d043cb0a7addaab2a9c224cbe137c0062"
      }
    }
  },
  "nbformat": 4,
  "nbformat_minor": 0
}
