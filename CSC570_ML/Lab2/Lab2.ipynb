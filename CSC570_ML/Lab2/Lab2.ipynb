{
  "cells": [
    {
      "cell_type": "markdown",
      "metadata": {
        "id": "ml3Vz9rjchXS"
      },
      "source": []
    },
    {
      "cell_type": "markdown",
      "metadata": {
        "id": "6Z0AGRgSZ-wz"
      },
      "source": [
        "# EXPLOTARY DATA ANALYSIS ON IRIS DATASET"
      ]
    },
    {
      "cell_type": "markdown",
      "metadata": {
        "id": "gqGUvP3wcqt7"
      },
      "source": [
        "# Lab 2 (50 points)# \n",
        "The purpose of this exercise is to analyse a simple dataset. By the end of this exercise, students will be able to learn the basic tools and techniques for plotting, examining the data, and inferencing. \n",
        "\n",
        "Collaboration: Students are allowed to consult their classmates and work in teams to complete the lab. \n",
        "\n",
        "Submission: Students do not need to submit the lab. As soon as you are done, you can demonstrate the lab to me in the lab class "
      ]
    },
    {
      "cell_type": "markdown",
      "metadata": {
        "id": "6ixn7yRAaxAJ"
      },
      "source": [
        "\n",
        "\n",
        "The iris flower dataset contains length of varies parameters of three types of flowers namely setosa, versicolor, and virginia. The dataset contains 3 classes of 50 instances each, where each class is a type of flower.\n",
        "\n",
        "\n",
        "\n",
        "#### Attributes :-\n",
        "\n",
        "1. Sepal length in cm \n",
        "2. Sepal width in cm \n",
        "3. Petal length in cm \n",
        "4. Petal width in cm \n",
        "5. class: \n",
        "-- Iris Setosa \n",
        "-- Iris Versicolour \n",
        "-- Iris Virginica\n",
        "\n",
        "\n",
        "### OBJECTIVE\n",
        "\n",
        "#### Apply explotary data analysis on IRIS dataset to find out which attribute is useful to classify the differences in flower.  \n",
        "#Some helper codes are provided. Complete the assignment and demo it to your instructor\n"
      ]
    },
    {
      "cell_type": "code",
      "execution_count": null,
      "metadata": {
        "id": "26vB9R9hg5Ks"
      },
      "outputs": [],
      "source": []
    },
    {
      "cell_type": "code",
      "execution_count": 1,
      "metadata": {
        "id": "u1CPX1i0axAO"
      },
      "outputs": [],
      "source": [
        "import pandas as pd\n",
        "import seaborn as sns \n",
        "import matplotlib.pyplot as plt\n",
        "import numpy as np\n",
        "import csv\n",
        "iris_df = pd.read_csv('https://raw.githubusercontent.com/sumonacalpoly/Datasets/main/Iris.csv') #Loading iris dataset into panda data frame"
      ]
    },
    {
      "cell_type": "code",
      "execution_count": 2,
      "metadata": {
        "id": "3e41dgCiaxAP"
      },
      "outputs": [
        {
          "data": {
            "text/html": [
              "<div>\n",
              "<style scoped>\n",
              "    .dataframe tbody tr th:only-of-type {\n",
              "        vertical-align: middle;\n",
              "    }\n",
              "\n",
              "    .dataframe tbody tr th {\n",
              "        vertical-align: top;\n",
              "    }\n",
              "\n",
              "    .dataframe thead th {\n",
              "        text-align: right;\n",
              "    }\n",
              "</style>\n",
              "<table border=\"1\" class=\"dataframe\">\n",
              "  <thead>\n",
              "    <tr style=\"text-align: right;\">\n",
              "      <th></th>\n",
              "      <th>Id</th>\n",
              "      <th>SepalLengthCm</th>\n",
              "      <th>SepalWidthCm</th>\n",
              "      <th>PetalLengthCm</th>\n",
              "      <th>PetalWidthCm</th>\n",
              "      <th>Species</th>\n",
              "    </tr>\n",
              "  </thead>\n",
              "  <tbody>\n",
              "    <tr>\n",
              "      <th>0</th>\n",
              "      <td>1</td>\n",
              "      <td>5.1</td>\n",
              "      <td>3.5</td>\n",
              "      <td>1.4</td>\n",
              "      <td>0.2</td>\n",
              "      <td>Iris-setosa</td>\n",
              "    </tr>\n",
              "    <tr>\n",
              "      <th>1</th>\n",
              "      <td>2</td>\n",
              "      <td>4.9</td>\n",
              "      <td>3.0</td>\n",
              "      <td>1.4</td>\n",
              "      <td>0.2</td>\n",
              "      <td>Iris-setosa</td>\n",
              "    </tr>\n",
              "    <tr>\n",
              "      <th>2</th>\n",
              "      <td>3</td>\n",
              "      <td>4.7</td>\n",
              "      <td>3.2</td>\n",
              "      <td>1.3</td>\n",
              "      <td>0.2</td>\n",
              "      <td>Iris-setosa</td>\n",
              "    </tr>\n",
              "    <tr>\n",
              "      <th>3</th>\n",
              "      <td>4</td>\n",
              "      <td>4.6</td>\n",
              "      <td>3.1</td>\n",
              "      <td>1.5</td>\n",
              "      <td>0.2</td>\n",
              "      <td>Iris-setosa</td>\n",
              "    </tr>\n",
              "    <tr>\n",
              "      <th>4</th>\n",
              "      <td>5</td>\n",
              "      <td>5.0</td>\n",
              "      <td>3.6</td>\n",
              "      <td>1.4</td>\n",
              "      <td>0.2</td>\n",
              "      <td>Iris-setosa</td>\n",
              "    </tr>\n",
              "    <tr>\n",
              "      <th>...</th>\n",
              "      <td>...</td>\n",
              "      <td>...</td>\n",
              "      <td>...</td>\n",
              "      <td>...</td>\n",
              "      <td>...</td>\n",
              "      <td>...</td>\n",
              "    </tr>\n",
              "    <tr>\n",
              "      <th>145</th>\n",
              "      <td>146</td>\n",
              "      <td>6.7</td>\n",
              "      <td>3.0</td>\n",
              "      <td>5.2</td>\n",
              "      <td>2.3</td>\n",
              "      <td>Iris-virginica</td>\n",
              "    </tr>\n",
              "    <tr>\n",
              "      <th>146</th>\n",
              "      <td>147</td>\n",
              "      <td>6.3</td>\n",
              "      <td>2.5</td>\n",
              "      <td>5.0</td>\n",
              "      <td>1.9</td>\n",
              "      <td>Iris-virginica</td>\n",
              "    </tr>\n",
              "    <tr>\n",
              "      <th>147</th>\n",
              "      <td>148</td>\n",
              "      <td>6.5</td>\n",
              "      <td>3.0</td>\n",
              "      <td>5.2</td>\n",
              "      <td>2.0</td>\n",
              "      <td>Iris-virginica</td>\n",
              "    </tr>\n",
              "    <tr>\n",
              "      <th>148</th>\n",
              "      <td>149</td>\n",
              "      <td>6.2</td>\n",
              "      <td>3.4</td>\n",
              "      <td>5.4</td>\n",
              "      <td>2.3</td>\n",
              "      <td>Iris-virginica</td>\n",
              "    </tr>\n",
              "    <tr>\n",
              "      <th>149</th>\n",
              "      <td>150</td>\n",
              "      <td>5.9</td>\n",
              "      <td>3.0</td>\n",
              "      <td>5.1</td>\n",
              "      <td>1.8</td>\n",
              "      <td>Iris-virginica</td>\n",
              "    </tr>\n",
              "  </tbody>\n",
              "</table>\n",
              "<p>150 rows × 6 columns</p>\n",
              "</div>"
            ],
            "text/plain": [
              "      Id  SepalLengthCm  SepalWidthCm  PetalLengthCm  PetalWidthCm  \\\n",
              "0      1            5.1           3.5            1.4           0.2   \n",
              "1      2            4.9           3.0            1.4           0.2   \n",
              "2      3            4.7           3.2            1.3           0.2   \n",
              "3      4            4.6           3.1            1.5           0.2   \n",
              "4      5            5.0           3.6            1.4           0.2   \n",
              "..   ...            ...           ...            ...           ...   \n",
              "145  146            6.7           3.0            5.2           2.3   \n",
              "146  147            6.3           2.5            5.0           1.9   \n",
              "147  148            6.5           3.0            5.2           2.0   \n",
              "148  149            6.2           3.4            5.4           2.3   \n",
              "149  150            5.9           3.0            5.1           1.8   \n",
              "\n",
              "            Species  \n",
              "0       Iris-setosa  \n",
              "1       Iris-setosa  \n",
              "2       Iris-setosa  \n",
              "3       Iris-setosa  \n",
              "4       Iris-setosa  \n",
              "..              ...  \n",
              "145  Iris-virginica  \n",
              "146  Iris-virginica  \n",
              "147  Iris-virginica  \n",
              "148  Iris-virginica  \n",
              "149  Iris-virginica  \n",
              "\n",
              "[150 rows x 6 columns]"
            ]
          },
          "execution_count": 2,
          "metadata": {},
          "output_type": "execute_result"
        }
      ],
      "source": [
        "iris_df #viewing the data"
      ]
    },
    {
      "cell_type": "markdown",
      "metadata": {
        "id": "CQ_NPAoTfen0"
      },
      "source": [
        "**Display the number of columns and rows**"
      ]
    },
    {
      "cell_type": "code",
      "execution_count": 5,
      "metadata": {
        "id": "opXo12J-axAQ"
      },
      "outputs": [
        {
          "data": {
            "text/plain": [
              "6"
            ]
          },
          "execution_count": 5,
          "metadata": {},
          "output_type": "execute_result"
        }
      ],
      "source": [
        "# column size\n",
        "iris_df.columns.size"
      ]
    },
    {
      "cell_type": "code",
      "execution_count": 8,
      "metadata": {},
      "outputs": [
        {
          "data": {
            "text/plain": [
              "150"
            ]
          },
          "execution_count": 8,
          "metadata": {},
          "output_type": "execute_result"
        }
      ],
      "source": [
        "# number of rows\n",
        "iris_df.shape[0]"
      ]
    },
    {
      "cell_type": "markdown",
      "metadata": {
        "id": "H-R6wfwAnSAo"
      },
      "source": [
        "# Understanding the data"
      ]
    },
    {
      "cell_type": "code",
      "execution_count": 9,
      "metadata": {
        "id": "H-BT25MsnaTw"
      },
      "outputs": [
        {
          "data": {
            "text/plain": [
              "Id                 int64\n",
              "SepalLengthCm    float64\n",
              "SepalWidthCm     float64\n",
              "PetalLengthCm    float64\n",
              "PetalWidthCm     float64\n",
              "Species           object\n",
              "dtype: object"
            ]
          },
          "execution_count": 9,
          "metadata": {},
          "output_type": "execute_result"
        }
      ],
      "source": [
        "iris_df.dtypes"
      ]
    },
    {
      "cell_type": "code",
      "execution_count": 10,
      "metadata": {
        "id": "e5cvpIennfmP"
      },
      "outputs": [
        {
          "data": {
            "text/plain": [
              "array(['Iris-setosa', 'Iris-versicolor', 'Iris-virginica'], dtype=object)"
            ]
          },
          "execution_count": 10,
          "metadata": {},
          "output_type": "execute_result"
        }
      ],
      "source": [
        "iris_df[\"Species\"].unique()"
      ]
    },
    {
      "cell_type": "markdown",
      "metadata": {
        "id": "AKLBdRdFuQEc"
      },
      "source": [
        "**Show the column values and type**"
      ]
    },
    {
      "cell_type": "code",
      "execution_count": 11,
      "metadata": {
        "id": "_5YpQkwoulEk"
      },
      "outputs": [
        {
          "data": {
            "text/plain": [
              "Id                 int64\n",
              "SepalLengthCm    float64\n",
              "SepalWidthCm     float64\n",
              "PetalLengthCm    float64\n",
              "PetalWidthCm     float64\n",
              "Species           object\n",
              "dtype: object"
            ]
          },
          "execution_count": 11,
          "metadata": {},
          "output_type": "execute_result"
        }
      ],
      "source": [
        "iris_df.dtypes"
      ]
    },
    {
      "cell_type": "markdown",
      "metadata": {
        "id": "q90HUM8qudGk"
      },
      "source": [
        "**Show the column headings**"
      ]
    },
    {
      "cell_type": "code",
      "execution_count": 12,
      "metadata": {
        "id": "sxgB_rz_lOL_"
      },
      "outputs": [
        {
          "data": {
            "text/plain": [
              "['Id',\n",
              " 'SepalLengthCm',\n",
              " 'SepalWidthCm',\n",
              " 'PetalLengthCm',\n",
              " 'PetalWidthCm',\n",
              " 'Species']"
            ]
          },
          "execution_count": 12,
          "metadata": {},
          "output_type": "execute_result"
        }
      ],
      "source": [
        "list(iris_df.columns)"
      ]
    },
    {
      "cell_type": "markdown",
      "metadata": {
        "id": "PDoryLrLumNm"
      },
      "source": [
        "**Show number of samples in each class**"
      ]
    },
    {
      "cell_type": "code",
      "execution_count": 16,
      "metadata": {
        "id": "Txq0XdUofs3C"
      },
      "outputs": [
        {
          "data": {
            "text/plain": [
              "Iris-setosa        50\n",
              "Iris-virginica     50\n",
              "Iris-versicolor    50\n",
              "Name: Species, dtype: int64"
            ]
          },
          "execution_count": 16,
          "metadata": {},
          "output_type": "execute_result"
        }
      ],
      "source": [
        "iris_df[\"Species\"].value_counts()"
      ]
    },
    {
      "cell_type": "markdown",
      "metadata": {
        "id": "MTpjw5WfaxAT"
      },
      "source": [
        "### Dataset description\n",
        "#### Here, all the three classes have equal number of data points."
      ]
    },
    {
      "cell_type": "markdown",
      "metadata": {
        "id": "12P0Xv8gfvow"
      },
      "source": []
    },
    {
      "cell_type": "code",
      "execution_count": 17,
      "metadata": {
        "id": "fJdAH6l_ldGo"
      },
      "outputs": [
        {
          "data": {
            "text/html": [
              "<div>\n",
              "<style scoped>\n",
              "    .dataframe tbody tr th:only-of-type {\n",
              "        vertical-align: middle;\n",
              "    }\n",
              "\n",
              "    .dataframe tbody tr th {\n",
              "        vertical-align: top;\n",
              "    }\n",
              "\n",
              "    .dataframe thead th {\n",
              "        text-align: right;\n",
              "    }\n",
              "</style>\n",
              "<table border=\"1\" class=\"dataframe\">\n",
              "  <thead>\n",
              "    <tr style=\"text-align: right;\">\n",
              "      <th></th>\n",
              "      <th>Id</th>\n",
              "      <th>SepalLengthCm</th>\n",
              "      <th>SepalWidthCm</th>\n",
              "      <th>PetalLengthCm</th>\n",
              "      <th>PetalWidthCm</th>\n",
              "    </tr>\n",
              "  </thead>\n",
              "  <tbody>\n",
              "    <tr>\n",
              "      <th>count</th>\n",
              "      <td>150.000000</td>\n",
              "      <td>150.000000</td>\n",
              "      <td>150.000000</td>\n",
              "      <td>150.000000</td>\n",
              "      <td>150.000000</td>\n",
              "    </tr>\n",
              "    <tr>\n",
              "      <th>mean</th>\n",
              "      <td>75.500000</td>\n",
              "      <td>5.843333</td>\n",
              "      <td>3.054000</td>\n",
              "      <td>3.758667</td>\n",
              "      <td>1.198667</td>\n",
              "    </tr>\n",
              "    <tr>\n",
              "      <th>std</th>\n",
              "      <td>43.445368</td>\n",
              "      <td>0.828066</td>\n",
              "      <td>0.433594</td>\n",
              "      <td>1.764420</td>\n",
              "      <td>0.763161</td>\n",
              "    </tr>\n",
              "    <tr>\n",
              "      <th>min</th>\n",
              "      <td>1.000000</td>\n",
              "      <td>4.300000</td>\n",
              "      <td>2.000000</td>\n",
              "      <td>1.000000</td>\n",
              "      <td>0.100000</td>\n",
              "    </tr>\n",
              "    <tr>\n",
              "      <th>25%</th>\n",
              "      <td>38.250000</td>\n",
              "      <td>5.100000</td>\n",
              "      <td>2.800000</td>\n",
              "      <td>1.600000</td>\n",
              "      <td>0.300000</td>\n",
              "    </tr>\n",
              "    <tr>\n",
              "      <th>50%</th>\n",
              "      <td>75.500000</td>\n",
              "      <td>5.800000</td>\n",
              "      <td>3.000000</td>\n",
              "      <td>4.350000</td>\n",
              "      <td>1.300000</td>\n",
              "    </tr>\n",
              "    <tr>\n",
              "      <th>75%</th>\n",
              "      <td>112.750000</td>\n",
              "      <td>6.400000</td>\n",
              "      <td>3.300000</td>\n",
              "      <td>5.100000</td>\n",
              "      <td>1.800000</td>\n",
              "    </tr>\n",
              "    <tr>\n",
              "      <th>max</th>\n",
              "      <td>150.000000</td>\n",
              "      <td>7.900000</td>\n",
              "      <td>4.400000</td>\n",
              "      <td>6.900000</td>\n",
              "      <td>2.500000</td>\n",
              "    </tr>\n",
              "  </tbody>\n",
              "</table>\n",
              "</div>"
            ],
            "text/plain": [
              "               Id  SepalLengthCm  SepalWidthCm  PetalLengthCm  PetalWidthCm\n",
              "count  150.000000     150.000000    150.000000     150.000000    150.000000\n",
              "mean    75.500000       5.843333      3.054000       3.758667      1.198667\n",
              "std     43.445368       0.828066      0.433594       1.764420      0.763161\n",
              "min      1.000000       4.300000      2.000000       1.000000      0.100000\n",
              "25%     38.250000       5.100000      2.800000       1.600000      0.300000\n",
              "50%     75.500000       5.800000      3.000000       4.350000      1.300000\n",
              "75%    112.750000       6.400000      3.300000       5.100000      1.800000\n",
              "max    150.000000       7.900000      4.400000       6.900000      2.500000"
            ]
          },
          "execution_count": 17,
          "metadata": {},
          "output_type": "execute_result"
        }
      ],
      "source": [
        "iris_df.describe() #describing the whole class"
      ]
    },
    {
      "cell_type": "markdown",
      "metadata": {
        "id": "3XpkPP2-f1gD"
      },
      "source": [
        "**Describe the setosa class**"
      ]
    },
    {
      "cell_type": "code",
      "execution_count": 37,
      "metadata": {
        "id": "1T30wrZaf912"
      },
      "outputs": [
        {
          "data": {
            "text/html": [
              "<div>\n",
              "<style scoped>\n",
              "    .dataframe tbody tr th:only-of-type {\n",
              "        vertical-align: middle;\n",
              "    }\n",
              "\n",
              "    .dataframe tbody tr th {\n",
              "        vertical-align: top;\n",
              "    }\n",
              "\n",
              "    .dataframe thead th {\n",
              "        text-align: right;\n",
              "    }\n",
              "</style>\n",
              "<table border=\"1\" class=\"dataframe\">\n",
              "  <thead>\n",
              "    <tr style=\"text-align: right;\">\n",
              "      <th></th>\n",
              "      <th>Id</th>\n",
              "      <th>SepalLengthCm</th>\n",
              "      <th>SepalWidthCm</th>\n",
              "      <th>PetalLengthCm</th>\n",
              "      <th>PetalWidthCm</th>\n",
              "    </tr>\n",
              "  </thead>\n",
              "  <tbody>\n",
              "    <tr>\n",
              "      <th>count</th>\n",
              "      <td>50.00000</td>\n",
              "      <td>50.00000</td>\n",
              "      <td>50.000000</td>\n",
              "      <td>50.000000</td>\n",
              "      <td>50.00000</td>\n",
              "    </tr>\n",
              "    <tr>\n",
              "      <th>mean</th>\n",
              "      <td>25.50000</td>\n",
              "      <td>5.00600</td>\n",
              "      <td>3.418000</td>\n",
              "      <td>1.464000</td>\n",
              "      <td>0.24400</td>\n",
              "    </tr>\n",
              "    <tr>\n",
              "      <th>std</th>\n",
              "      <td>14.57738</td>\n",
              "      <td>0.35249</td>\n",
              "      <td>0.381024</td>\n",
              "      <td>0.173511</td>\n",
              "      <td>0.10721</td>\n",
              "    </tr>\n",
              "    <tr>\n",
              "      <th>min</th>\n",
              "      <td>1.00000</td>\n",
              "      <td>4.30000</td>\n",
              "      <td>2.300000</td>\n",
              "      <td>1.000000</td>\n",
              "      <td>0.10000</td>\n",
              "    </tr>\n",
              "    <tr>\n",
              "      <th>25%</th>\n",
              "      <td>13.25000</td>\n",
              "      <td>4.80000</td>\n",
              "      <td>3.125000</td>\n",
              "      <td>1.400000</td>\n",
              "      <td>0.20000</td>\n",
              "    </tr>\n",
              "    <tr>\n",
              "      <th>50%</th>\n",
              "      <td>25.50000</td>\n",
              "      <td>5.00000</td>\n",
              "      <td>3.400000</td>\n",
              "      <td>1.500000</td>\n",
              "      <td>0.20000</td>\n",
              "    </tr>\n",
              "    <tr>\n",
              "      <th>75%</th>\n",
              "      <td>37.75000</td>\n",
              "      <td>5.20000</td>\n",
              "      <td>3.675000</td>\n",
              "      <td>1.575000</td>\n",
              "      <td>0.30000</td>\n",
              "    </tr>\n",
              "    <tr>\n",
              "      <th>max</th>\n",
              "      <td>50.00000</td>\n",
              "      <td>5.80000</td>\n",
              "      <td>4.400000</td>\n",
              "      <td>1.900000</td>\n",
              "      <td>0.60000</td>\n",
              "    </tr>\n",
              "  </tbody>\n",
              "</table>\n",
              "</div>"
            ],
            "text/plain": [
              "             Id  SepalLengthCm  SepalWidthCm  PetalLengthCm  PetalWidthCm\n",
              "count  50.00000       50.00000     50.000000      50.000000      50.00000\n",
              "mean   25.50000        5.00600      3.418000       1.464000       0.24400\n",
              "std    14.57738        0.35249      0.381024       0.173511       0.10721\n",
              "min     1.00000        4.30000      2.300000       1.000000       0.10000\n",
              "25%    13.25000        4.80000      3.125000       1.400000       0.20000\n",
              "50%    25.50000        5.00000      3.400000       1.500000       0.20000\n",
              "75%    37.75000        5.20000      3.675000       1.575000       0.30000\n",
              "max    50.00000        5.80000      4.400000       1.900000       0.60000"
            ]
          },
          "execution_count": 37,
          "metadata": {},
          "output_type": "execute_result"
        }
      ],
      "source": [
        "iris_df[iris_df[\"Species\"] == \"Iris-setosa\"].describe()"
      ]
    },
    {
      "cell_type": "markdown",
      "metadata": {
        "id": "XSKhMBaEf-1s"
      },
      "source": [
        "**Describe the versicolor class**"
      ]
    },
    {
      "cell_type": "code",
      "execution_count": 42,
      "metadata": {},
      "outputs": [
        {
          "data": {
            "text/html": [
              "<div>\n",
              "<style scoped>\n",
              "    .dataframe tbody tr th:only-of-type {\n",
              "        vertical-align: middle;\n",
              "    }\n",
              "\n",
              "    .dataframe tbody tr th {\n",
              "        vertical-align: top;\n",
              "    }\n",
              "\n",
              "    .dataframe thead th {\n",
              "        text-align: right;\n",
              "    }\n",
              "</style>\n",
              "<table border=\"1\" class=\"dataframe\">\n",
              "  <thead>\n",
              "    <tr style=\"text-align: right;\">\n",
              "      <th></th>\n",
              "      <th>Id</th>\n",
              "      <th>SepalLengthCm</th>\n",
              "      <th>SepalWidthCm</th>\n",
              "      <th>PetalLengthCm</th>\n",
              "      <th>PetalWidthCm</th>\n",
              "    </tr>\n",
              "  </thead>\n",
              "  <tbody>\n",
              "    <tr>\n",
              "      <th>count</th>\n",
              "      <td>50.00000</td>\n",
              "      <td>50.000000</td>\n",
              "      <td>50.000000</td>\n",
              "      <td>50.000000</td>\n",
              "      <td>50.000000</td>\n",
              "    </tr>\n",
              "    <tr>\n",
              "      <th>mean</th>\n",
              "      <td>75.50000</td>\n",
              "      <td>5.936000</td>\n",
              "      <td>2.770000</td>\n",
              "      <td>4.260000</td>\n",
              "      <td>1.326000</td>\n",
              "    </tr>\n",
              "    <tr>\n",
              "      <th>std</th>\n",
              "      <td>14.57738</td>\n",
              "      <td>0.516171</td>\n",
              "      <td>0.313798</td>\n",
              "      <td>0.469911</td>\n",
              "      <td>0.197753</td>\n",
              "    </tr>\n",
              "    <tr>\n",
              "      <th>min</th>\n",
              "      <td>51.00000</td>\n",
              "      <td>4.900000</td>\n",
              "      <td>2.000000</td>\n",
              "      <td>3.000000</td>\n",
              "      <td>1.000000</td>\n",
              "    </tr>\n",
              "    <tr>\n",
              "      <th>25%</th>\n",
              "      <td>63.25000</td>\n",
              "      <td>5.600000</td>\n",
              "      <td>2.525000</td>\n",
              "      <td>4.000000</td>\n",
              "      <td>1.200000</td>\n",
              "    </tr>\n",
              "    <tr>\n",
              "      <th>50%</th>\n",
              "      <td>75.50000</td>\n",
              "      <td>5.900000</td>\n",
              "      <td>2.800000</td>\n",
              "      <td>4.350000</td>\n",
              "      <td>1.300000</td>\n",
              "    </tr>\n",
              "    <tr>\n",
              "      <th>75%</th>\n",
              "      <td>87.75000</td>\n",
              "      <td>6.300000</td>\n",
              "      <td>3.000000</td>\n",
              "      <td>4.600000</td>\n",
              "      <td>1.500000</td>\n",
              "    </tr>\n",
              "    <tr>\n",
              "      <th>max</th>\n",
              "      <td>100.00000</td>\n",
              "      <td>7.000000</td>\n",
              "      <td>3.400000</td>\n",
              "      <td>5.100000</td>\n",
              "      <td>1.800000</td>\n",
              "    </tr>\n",
              "  </tbody>\n",
              "</table>\n",
              "</div>"
            ],
            "text/plain": [
              "              Id  SepalLengthCm  SepalWidthCm  PetalLengthCm  PetalWidthCm\n",
              "count   50.00000      50.000000     50.000000      50.000000     50.000000\n",
              "mean    75.50000       5.936000      2.770000       4.260000      1.326000\n",
              "std     14.57738       0.516171      0.313798       0.469911      0.197753\n",
              "min     51.00000       4.900000      2.000000       3.000000      1.000000\n",
              "25%     63.25000       5.600000      2.525000       4.000000      1.200000\n",
              "50%     75.50000       5.900000      2.800000       4.350000      1.300000\n",
              "75%     87.75000       6.300000      3.000000       4.600000      1.500000\n",
              "max    100.00000       7.000000      3.400000       5.100000      1.800000"
            ]
          },
          "execution_count": 42,
          "metadata": {},
          "output_type": "execute_result"
        }
      ],
      "source": [
        "iris_df[iris_df[\"Species\"] == \"Iris-versicolor\"].describe()  "
      ]
    },
    {
      "cell_type": "markdown",
      "metadata": {
        "id": "GNVPXaAlgEWl"
      },
      "source": [
        "**Describe the virginica class**"
      ]
    },
    {
      "cell_type": "code",
      "execution_count": 43,
      "metadata": {},
      "outputs": [
        {
          "data": {
            "text/html": [
              "<div>\n",
              "<style scoped>\n",
              "    .dataframe tbody tr th:only-of-type {\n",
              "        vertical-align: middle;\n",
              "    }\n",
              "\n",
              "    .dataframe tbody tr th {\n",
              "        vertical-align: top;\n",
              "    }\n",
              "\n",
              "    .dataframe thead th {\n",
              "        text-align: right;\n",
              "    }\n",
              "</style>\n",
              "<table border=\"1\" class=\"dataframe\">\n",
              "  <thead>\n",
              "    <tr style=\"text-align: right;\">\n",
              "      <th></th>\n",
              "      <th>Id</th>\n",
              "      <th>SepalLengthCm</th>\n",
              "      <th>SepalWidthCm</th>\n",
              "      <th>PetalLengthCm</th>\n",
              "      <th>PetalWidthCm</th>\n",
              "    </tr>\n",
              "  </thead>\n",
              "  <tbody>\n",
              "    <tr>\n",
              "      <th>count</th>\n",
              "      <td>50.00000</td>\n",
              "      <td>50.00000</td>\n",
              "      <td>50.000000</td>\n",
              "      <td>50.000000</td>\n",
              "      <td>50.00000</td>\n",
              "    </tr>\n",
              "    <tr>\n",
              "      <th>mean</th>\n",
              "      <td>125.50000</td>\n",
              "      <td>6.58800</td>\n",
              "      <td>2.974000</td>\n",
              "      <td>5.552000</td>\n",
              "      <td>2.02600</td>\n",
              "    </tr>\n",
              "    <tr>\n",
              "      <th>std</th>\n",
              "      <td>14.57738</td>\n",
              "      <td>0.63588</td>\n",
              "      <td>0.322497</td>\n",
              "      <td>0.551895</td>\n",
              "      <td>0.27465</td>\n",
              "    </tr>\n",
              "    <tr>\n",
              "      <th>min</th>\n",
              "      <td>101.00000</td>\n",
              "      <td>4.90000</td>\n",
              "      <td>2.200000</td>\n",
              "      <td>4.500000</td>\n",
              "      <td>1.40000</td>\n",
              "    </tr>\n",
              "    <tr>\n",
              "      <th>25%</th>\n",
              "      <td>113.25000</td>\n",
              "      <td>6.22500</td>\n",
              "      <td>2.800000</td>\n",
              "      <td>5.100000</td>\n",
              "      <td>1.80000</td>\n",
              "    </tr>\n",
              "    <tr>\n",
              "      <th>50%</th>\n",
              "      <td>125.50000</td>\n",
              "      <td>6.50000</td>\n",
              "      <td>3.000000</td>\n",
              "      <td>5.550000</td>\n",
              "      <td>2.00000</td>\n",
              "    </tr>\n",
              "    <tr>\n",
              "      <th>75%</th>\n",
              "      <td>137.75000</td>\n",
              "      <td>6.90000</td>\n",
              "      <td>3.175000</td>\n",
              "      <td>5.875000</td>\n",
              "      <td>2.30000</td>\n",
              "    </tr>\n",
              "    <tr>\n",
              "      <th>max</th>\n",
              "      <td>150.00000</td>\n",
              "      <td>7.90000</td>\n",
              "      <td>3.800000</td>\n",
              "      <td>6.900000</td>\n",
              "      <td>2.50000</td>\n",
              "    </tr>\n",
              "  </tbody>\n",
              "</table>\n",
              "</div>"
            ],
            "text/plain": [
              "              Id  SepalLengthCm  SepalWidthCm  PetalLengthCm  PetalWidthCm\n",
              "count   50.00000       50.00000     50.000000      50.000000      50.00000\n",
              "mean   125.50000        6.58800      2.974000       5.552000       2.02600\n",
              "std     14.57738        0.63588      0.322497       0.551895       0.27465\n",
              "min    101.00000        4.90000      2.200000       4.500000       1.40000\n",
              "25%    113.25000        6.22500      2.800000       5.100000       1.80000\n",
              "50%    125.50000        6.50000      3.000000       5.550000       2.00000\n",
              "75%    137.75000        6.90000      3.175000       5.875000       2.30000\n",
              "max    150.00000        7.90000      3.800000       6.900000       2.50000"
            ]
          },
          "execution_count": 43,
          "metadata": {},
          "output_type": "execute_result"
        }
      ],
      "source": [
        "iris_df[iris_df[\"Species\"] == \"Iris-virginica\"].describe()"
      ]
    },
    {
      "cell_type": "markdown",
      "metadata": {},
      "source": []
    },
    {
      "cell_type": "markdown",
      "metadata": {
        "id": "ehmsPTpYaxAW"
      },
      "source": [
        "## 2-D Scatter Plot\n",
        "##### The main idea is to plot a 2d scatter plot by taking 2 features at a time then after that identifying that if we could be able to diffentiate the three classes of flower in the dataset\n"
      ]
    },
    {
      "cell_type": "markdown",
      "metadata": {
        "id": "YFizyXoBxFsz"
      },
      "source": [
        "**Show the color coded scatter plot for the attributes: sepal_length and sepal_width**\n",
        "\n",
        "**How did you color code the samples? Write your reply**"
      ]
    },
    {
      "cell_type": "code",
      "execution_count": null,
      "metadata": {},
      "outputs": [],
      "source": []
    },
    {
      "cell_type": "markdown",
      "metadata": {
        "id": "dm3rBKMSm7on"
      },
      "source": [
        "# Data Visualization"
      ]
    },
    {
      "cell_type": "code",
      "execution_count": null,
      "metadata": {
        "id": "9D-I36HGm_vw"
      },
      "outputs": [],
      "source": []
    },
    {
      "cell_type": "markdown",
      "metadata": {
        "id": "D54R9PwGxknT"
      },
      "source": [
        "**Answer the following**\n",
        "\n",
        "1) Do you see any attribute of the data samples overapping with each other? If yes, which category/class do they belong?\n",
        "\n",
        "2) What is the problem if the data samples are overlapping? \n"
      ]
    },
    {
      "cell_type": "code",
      "execution_count": 47,
      "metadata": {
        "id": "Gzss7jcBaxAW"
      },
      "outputs": [
        {
          "name": "stderr",
          "output_type": "stream",
          "text": [
            "/usr/local/lib/python3.8/site-packages/seaborn/axisgrid.py:337: UserWarning: The `size` parameter has been renamed to `height`; please update your code.\n",
            "  warnings.warn(msg, UserWarning)\n"
          ]
        },
        {
          "data": {
            "image/png": "[encoded data removed]",
            "text/plain": [
              "<Figure size 383.875x288 with 1 Axes>"
            ]
          },
          "metadata": {},
          "output_type": "display_data"
        }
      ],
      "source": [
        "sns.set_style(\"whitegrid\");\n",
        "sns.FacetGrid(iris_df, hue=\"Species\", size=4) \\\n",
        "   .map(plt.scatter, \"SepalLengthCm\", \"SepalWidthCm\") \\\n",
        "   .add_legend();\n",
        "plt.show();"
      ]
    },
    {
      "cell_type": "markdown",
      "metadata": {
        "id": "9LRurdEcyZob"
      },
      "source": [
        "Your Answer:"
      ]
    },
    {
      "cell_type": "markdown",
      "metadata": {},
      "source": [
        "1. The two species Iris-Versicolor and Iris-Virginica are overlapping.\n",
        "2. If data samples overlap, then it'll be hard for a clustering model to differenciate between the two if it wasn't labeled. And that would mean that the data is NOT independent of each other."
      ]
    },
    {
      "cell_type": "markdown",
      "metadata": {},
      "source": []
    },
    {
      "cell_type": "markdown",
      "metadata": {
        "id": "NvH0ez2ittGx"
      },
      "source": [
        "## 1-D scatter plot\n",
        "##### In this plot we are just plotting point by taking x ccordinate or y ccordinate of a feature and making the other coordinate zero\n",
        "##### 1-D scatter plot of petal length"
      ]
    },
    {
      "cell_type": "code",
      "execution_count": 49,
      "metadata": {
        "id": "QQwAkbBgvRCR"
      },
      "outputs": [
        {
          "data": {
            "image/png": "[encoded data removed]",
            "text/plain": [
              "<Figure size 432x288 with 1 Axes>"
            ]
          },
          "metadata": {},
          "output_type": "display_data"
        }
      ],
      "source": [
        "import numpy as np\n",
        "\n",
        "iris = iris_df\n",
        "iris_setosa = iris.loc[iris[\"Species\"] == \"Iris-setosa\"]\n",
        "iris_versicolor = iris.loc[iris[\"Species\"] == \"Iris-versicolor\"]\n",
        "iris_virginica = iris.loc[iris[\"Species\"] == \"Iris-virginica\"]\n",
        "\n",
        "plt.plot(iris_setosa[\"SepalLengthCm\"], np.zeros_like(iris_setosa['SepalLengthCm']), 'o')\n",
        "plt.plot(iris_versicolor[\"SepalLengthCm\"], np.zeros_like(iris_versicolor['SepalLengthCm']), 'o')\n",
        "plt.plot(iris_virginica[\"SepalLengthCm\"], np.zeros_like(iris_virginica['SepalLengthCm']), 'o')\n",
        "plt.legend(['Setosa', 'Versicolor', 'Virginica'])\n",
        "plt.xlabel('SepalLengthCm')\n",
        "plt.title('1D plot')\n",
        "\n",
        "plt.show()"
      ]
    },
    {
      "cell_type": "markdown",
      "metadata": {
        "id": "7NHDrIhExaeA"
      },
      "source": [
        "**State your observation from the 1D scatter plot**"
      ]
    },
    {
      "cell_type": "markdown",
      "metadata": {},
      "source": [
        "There is a lot of overlap, so orange is mixed with the blue and green. That tells us that it's not a good feature for comparison."
      ]
    },
    {
      "cell_type": "code",
      "execution_count": 50,
      "metadata": {
        "id": "wqIjIx4exfIA"
      },
      "outputs": [
        {
          "data": {
            "image/png": "[encoded data removed]",
            "text/plain": [
              "<Figure size 455.875x360 with 1 Axes>"
            ]
          },
          "metadata": {},
          "output_type": "display_data"
        }
      ],
      "source": [
        "#### Now Performing Histogram plot on the dataset taking a feature at a time\n",
        "#### And then deciding which plot is more useful to classify it\n",
        "import warnings\n",
        "warnings.filterwarnings(\"ignore\")\n",
        "sns.FacetGrid(iris, hue=\"Species\", size=5) \\\n",
        "   .map(sns.distplot, \"PetalLengthCm\") \\\n",
        "   .add_legend();\n",
        "plt.show();\n",
        "    \n",
        "    "
      ]
    },
    {
      "cell_type": "code",
      "execution_count": 53,
      "metadata": {},
      "outputs": [
        {
          "data": {
            "image/png": "[encoded data removed]",
            "text/plain": [
              "<Figure size 455.875x360 with 1 Axes>"
            ]
          },
          "metadata": {},
          "output_type": "display_data"
        }
      ],
      "source": [
        "#### Now Performing Histogram plot on the dataset taking a feature at a time\n",
        "#### And then deciding which plot is more useful to classify it\n",
        "import warnings\n",
        "warnings.filterwarnings(\"ignore\")\n",
        "sns.FacetGrid(iris, hue=\"Species\", size=5) \\\n",
        "   .map(sns.distplot, \"PetalWidthCm\") \\\n",
        "   .add_legend();\n",
        "plt.show();\n",
        "\n"
      ]
    },
    {
      "cell_type": "markdown",
      "metadata": {
        "id": "R8wpy5sd3Uyh"
      },
      "source": [
        "**Plot the histogram for the remaining attributes.**"
      ]
    },
    {
      "cell_type": "code",
      "execution_count": 51,
      "metadata": {
        "id": "xzUBwop8xqRf"
      },
      "outputs": [
        {
          "data": {
            "image/png": "[encoded data removed]",
            "text/plain": [
              "<Figure size 455.875x360 with 1 Axes>"
            ]
          },
          "metadata": {},
          "output_type": "display_data"
        }
      ],
      "source": [
        "#### Now Performing Histogram plot on the dataset taking a feature at a time\n",
        "#### And then deciding which plot is more useful to classify it\n",
        "import warnings\n",
        "warnings.filterwarnings(\"ignore\")\n",
        "sns.FacetGrid(iris, hue=\"Species\", size=5) \\\n",
        "   .map(sns.distplot, \"SepalLengthCm\") \\\n",
        "   .add_legend();\n",
        "plt.show();"
      ]
    },
    {
      "cell_type": "code",
      "execution_count": 52,
      "metadata": {},
      "outputs": [
        {
          "data": {
            "image/png": "[encoded data removed]",
            "text/plain": [
              "<Figure size 455.875x360 with 1 Axes>"
            ]
          },
          "metadata": {},
          "output_type": "display_data"
        }
      ],
      "source": [
        "#### Now Performing Histogram plot on the dataset taking a feature at a time\n",
        "#### And then deciding which plot is more useful to classify it\n",
        "import warnings\n",
        "warnings.filterwarnings(\"ignore\")\n",
        "sns.FacetGrid(iris, hue=\"Species\", size=5) \\\n",
        "   .map(sns.distplot, \"SepalWidthCm\") \\\n",
        "   .add_legend();\n",
        "plt.show();\n"
      ]
    },
    {
      "cell_type": "markdown",
      "metadata": {
        "id": "ZOhyQuDW3tk3"
      },
      "source": [
        "**Answer the following based on your observation**\n",
        "\n",
        "1) Can you use sepal_length and sepal_Width atributes to build a model? State your reason as well \n",
        "\n",
        "2) Which attribute(s) are more helpful in building a model for categorizing the data samples into their respective categories?   \n",
        "\n",
        "\n",
        "Your answer: \n"
      ]
    },
    {
      "cell_type": "markdown",
      "metadata": {},
      "source": [
        "1. No because the model will not perform well as there's a lot of overlapping between the 3 species.\n",
        "2. Petal width and length are the better features that will help us get better results."
      ]
    },
    {
      "cell_type": "markdown",
      "metadata": {},
      "source": []
    }
  ],
  "metadata": {
    "colab": {
      "collapsed_sections": [],
      "provenance": []
    },
    "kernelspec": {
      "display_name": "Python 3.8.5 64-bit",
      "language": "python",
      "name": "python3"
    },
    "language_info": {
      "codemirror_mode": {
        "name": "ipython",
        "version": 3
      },
      "file_extension": ".py",
      "mimetype": "text/x-python",
      "name": "python",
      "nbconvert_exporter": "python",
      "pygments_lexer": "ipython3",
      "version": "3.8.13"
    },
    "vscode": {
      "interpreter": {
        "hash": "1ee38ef4a5a9feb55287fd749643f13d043cb0a7addaab2a9c224cbe137c0062"
      }
    }
  },
  "nbformat": 4,
  "nbformat_minor": 0
}
